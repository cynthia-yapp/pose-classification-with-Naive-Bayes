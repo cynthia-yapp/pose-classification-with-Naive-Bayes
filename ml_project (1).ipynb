{
 "cells": [
  {
   "cell_type": "markdown",
   "metadata": {},
   "source": [
    "###### ### The University of Melbourne, School of Computing and Information Systems\n",
    "# COMP30027 Machine Learning, 2021 Semester 1\n",
    "\n",
    "## Assignment 1: Pose classification with naive Bayes\n",
    "\n",
    "###### Submission deadline: 7 pm, Tuesday 6 Apr 2021"
   ]
  },
  {
   "cell_type": "markdown",
   "metadata": {},
   "source": [
    "**Student ID(s):**     `1090015`  `1086213` \n"
   ]
  },
  {
   "cell_type": "markdown",
   "metadata": {},
   "source": [
    "This iPython notebook is a template which you will use for your Assignment 1 submission.\n",
    "\n",
    "Marking will be applied on the four functions that are defined in this notebook, and to your responses to the questions at the end of this notebook (Submitted in a separate PDF file).\n",
    "\n",
    "**NOTE: YOU SHOULD ADD YOUR RESULTS, DIAGRAMS AND IMAGES FROM YOUR OBSERVATIONS IN THIS FILE TO YOUR REPORT (the PDF file).**\n",
    "\n",
    "You may change the prototypes of these functions, and you may write other functions, according to your requirements. We would appreciate it if the required functions were prominent/easy to find.\n",
    "\n",
    "**Adding proper comments to your code is MANDATORY. **"
   ]
  },
  {
   "cell_type": "code",
   "execution_count": 21,
   "metadata": {},
   "outputs": [],
   "source": [
    "import matplotlib as mpl\n",
    "import pandas as pd\n",
    "import numpy as np\n",
    "import csv\n",
    "import math\n",
    "import operator\n",
    "\n",
    "MISSING_VALUES = '9999'\n",
    "\n",
    "def preprocess(csvfile):\n",
    "    '''preprocesses data by reading it from a file into a dataframe, converts string values into float,\n",
    "    replaces all missing values with NaN'''\n",
    "    \n",
    "    with open(csvfile, 'r') as csvfile:\n",
    "        opened_file = csv.reader(csvfile)\n",
    "\n",
    "        # excludes rows that have all missing values\n",
    "        clean_file = exclude_rows(opened_file)\n",
    "        df_file = pd.DataFrame(clean_file)\n",
    "    \n",
    "    # changes str to float\n",
    "    df_file.iloc[0:, 1:] = df_file.iloc[0:, 1:].astype(float)\n",
    "    df_file = df_file.replace(9999, np.nan) #replaces 9999 with nan value\n",
    "    return df_file\n",
    "\n",
    "def exclude_rows(opened_file):\n",
    "    '''excludes instances/rows that contain missing values only'''\n",
    "    \n",
    "    exclude_file = []\n",
    "    for columns in opened_file:\n",
    "        all_999 = False\n",
    "        for num in columns[1:]:\n",
    "            if num != MISSING_VALUES: # if missing values\n",
    "                all_999 = False\n",
    "                break\n",
    "            all_999 = True\n",
    "        if all_999 == False:\n",
    "            exclude_file.append(columns)\n",
    "    return exclude_file\n",
    "\n",
    "train_file = preprocess('train.csv')\n",
    "test_file = preprocess('test.csv')"
   ]
  },
  {
   "cell_type": "code",
   "execution_count": 22,
   "metadata": {},
   "outputs": [],
   "source": [
    "# This function should calculate prior probabilities and likelihoods from the training data and using\n",
    "# them to build a naive Bayes model\n",
    "\n",
    "def train(df):\n",
    "    '''calculates mean, standard deviation, prior probabilities and likelihood of training data'''\n",
    "    \n",
    "    # calculates prior probability P(Cj)\n",
    "    d_prior = calculate_prior(df.iloc[:,0]) # slices the first column\n",
    "    \n",
    "    # calculates mean & sd for each features (columns)\n",
    "    mean_list = df.groupby([0]).mean().values\n",
    "    sd_list = df.groupby([0]).std().values\n",
    "    keys_list = df.groupby([0]).mean().index\n",
    "    return mean_list, sd_list, d_prior, keys_list\n",
    "\n",
    "def calculate_prior(series):\n",
    "    '''calculates prior probability P(Cj)'''\n",
    "    \n",
    "    d_prior = {}\n",
    "    i = 0\n",
    "    series_value = series.value_counts()\n",
    "    total = series_value.sum()\n",
    "\n",
    "    for count in series_value:\n",
    "        d_prior[series_value.index[i]] = count / total\n",
    "        i += 1\n",
    "    return d_prior\n",
    "\n",
    "mean_list, sd_list, d_prior, keys_list = train(train_file)\n"
   ]
  },
  {
   "cell_type": "code",
   "execution_count": 23,
   "metadata": {},
   "outputs": [
    {
     "data": {
      "text/plain": [
       "['downwarddog',\n",
       " 'childs',\n",
       " 'bridge',\n",
       " 'downwarddog',\n",
       " 'downwarddog',\n",
       " 'downwarddog',\n",
       " 'bridge',\n",
       " 'bridge',\n",
       " 'childs',\n",
       " 'bridge',\n",
       " 'downwarddog',\n",
       " 'bridge',\n",
       " 'plank',\n",
       " 'bridge',\n",
       " 'seatedforwardbend',\n",
       " 'childs',\n",
       " 'childs',\n",
       " 'childs',\n",
       " 'childs',\n",
       " 'childs',\n",
       " 'childs',\n",
       " 'childs',\n",
       " 'childs',\n",
       " 'childs',\n",
       " 'childs',\n",
       " 'childs',\n",
       " 'childs',\n",
       " 'bridge',\n",
       " 'downwarddog',\n",
       " 'downwarddog',\n",
       " 'downwarddog',\n",
       " 'downwarddog',\n",
       " 'downwarddog',\n",
       " 'downwarddog',\n",
       " 'downwarddog',\n",
       " 'downwarddog',\n",
       " 'downwarddog',\n",
       " 'downwarddog',\n",
       " 'downwarddog',\n",
       " 'downwarddog',\n",
       " 'downwarddog',\n",
       " 'mountain',\n",
       " 'mountain',\n",
       " 'mountain',\n",
       " 'mountain',\n",
       " 'mountain',\n",
       " 'mountain',\n",
       " 'mountain',\n",
       " 'tree',\n",
       " 'tree',\n",
       " 'mountain',\n",
       " 'mountain',\n",
       " 'mountain',\n",
       " 'mountain',\n",
       " 'mountain',\n",
       " 'mountain',\n",
       " 'mountain',\n",
       " 'mountain',\n",
       " 'mountain',\n",
       " 'mountain',\n",
       " 'mountain',\n",
       " 'mountain',\n",
       " 'mountain',\n",
       " 'tree',\n",
       " 'tree',\n",
       " 'mountain',\n",
       " 'mountain',\n",
       " 'mountain',\n",
       " 'mountain',\n",
       " 'mountain',\n",
       " 'mountain',\n",
       " 'bridge',\n",
       " 'plank',\n",
       " 'plank',\n",
       " 'plank',\n",
       " 'plank',\n",
       " 'plank',\n",
       " 'trianglepose',\n",
       " 'bridge',\n",
       " 'plank',\n",
       " 'seatedforwardbend',\n",
       " 'downwarddog',\n",
       " 'childs',\n",
       " 'trianglepose',\n",
       " 'seatedforwardbend',\n",
       " 'seatedforwardbend',\n",
       " 'childs',\n",
       " 'childs',\n",
       " 'seatedforwardbend',\n",
       " 'tree',\n",
       " 'tree',\n",
       " 'warrior1',\n",
       " 'tree',\n",
       " 'bridge',\n",
       " 'warrior1',\n",
       " 'trianglepose',\n",
       " 'trianglepose',\n",
       " 'trianglepose',\n",
       " 'trianglepose',\n",
       " 'warrior1',\n",
       " 'warrior1',\n",
       " 'warrior1',\n",
       " 'warrior1',\n",
       " 'plank',\n",
       " 'warrior2',\n",
       " 'warrior2',\n",
       " 'warrior2',\n",
       " 'warrior2',\n",
       " 'tree',\n",
       " 'warrior2',\n",
       " 'warrior2',\n",
       " 'warrior2']"
      ]
     },
     "execution_count": 23,
     "metadata": {},
     "output_type": "execute_result"
    }
   ],
   "source": [
    "# This function should predict classes for new items in a test dataset (for the purposes of this assignment, you\n",
    "# can re-use the training data as a test set)\n",
    "\n",
    "def predict(test_file, mean_list, sd_list, d_prior, keys_list):\n",
    "    '''predicts classes from test_file using naive bayes algorithm'''\n",
    "    \n",
    "    prediction = []\n",
    "    row_idx = 0\n",
    "    sum_conditional = 0\n",
    "    for row in test_file.values:\n",
    "        cond_probability = {}\n",
    "        row_idx = 0 \n",
    "        for class_label in keys_list:\n",
    "            '''sums log likelihood P(x) + sum of P(Xi|Cj) for every instance'''\n",
    "            sum_conditional = math.log(d_prior[class_label])\n",
    "            for point_idx in range(len(row)):\n",
    "                '''sums P(Xi|Cj)'''\n",
    "                if np.isnan(row[point_idx]):\n",
    "                    continue # skips missing values\n",
    "                if (gauss_function(mean_list[row_idx][point_idx], sd_list[row_idx][point_idx], row[point_idx], d_prior[class_label]) == 0):\n",
    "                    continue # discards those with 0 probabilities\n",
    "                sum_conditional = sum_conditional + math.log(gauss_function(mean_list[row_idx][point_idx], sd_list[row_idx][point_idx], row[point_idx], d_prior[class_label]))\n",
    "            row_idx += 1\n",
    "            cond_probability[class_label] = sum_conditional \n",
    "        key_max = max(cond_probability.items(), key = operator.itemgetter(1))[0] # returns dictionary's key that has the highest value \n",
    "        prediction.append(key_max)\n",
    "    return prediction\n",
    "\n",
    "def gauss_function(mean, sd, x, prior_probability):\n",
    "    '''calculates P(Xi|Cj) using gaussian distribution's pdf'''\n",
    "    \n",
    "    exponent = np.exp(-1/2 * (((x - mean) / sd) ** 2))\n",
    "    gauss_pdf = exponent / (sd * np.sqrt(2 * np.pi))\n",
    "    return gauss_pdf\n",
    "\n",
    "prediction = predict(test_file.iloc[:,1:], mean_list, sd_list, d_prior, keys_list)\n",
    "prediction\n"
   ]
  },
  {
   "cell_type": "markdown",
   "metadata": {},
   "source": [
    "## Questions \n",
    "\n",
    "\n",
    "If you are in a group of 1, you will respond to **two** questions of your choosing.\n",
    "\n",
    "If you are in a group of 2, you will respond to **four** questions of your choosing.\n",
    "\n",
    "A response to a question should take about 100–250 words, and make reference to the data wherever possible.\n",
    "\n",
    "#### NOTE: you may develope codes or functions to help respond to the question here, but your formal answer should be submitted separately as a PDF."
   ]
  },
  {
   "cell_type": "markdown",
   "metadata": {},
   "source": [
    "### Q1\n",
    "Since this is a multiclass classification problem, there are multiple ways to compute precision, recall, and F-score for this classifier. Implement at least two of the methods from the \"Model Evaluation\" lecture and discuss any differences between them. (The implementation should be your own and should not just call a pre-existing function.)"
   ]
  },
  {
   "cell_type": "code",
   "execution_count": 24,
   "metadata": {},
   "outputs": [
    {
     "data": {
      "text/plain": [
       "(('accuracy', 0.75),\n",
       " {'macro precision': 0.7189602683178535,\n",
       "  'macro recall': 0.736468253968254,\n",
       "  'macro F-score': 0.711838641412678,\n",
       "  'micro precision': 0.75,\n",
       "  'micro recall': 0.75,\n",
       "  'micro F-score': 0.75})"
      ]
     },
     "execution_count": 24,
     "metadata": {},
     "output_type": "execute_result"
    }
   ],
   "source": [
    "#### This function should evaluate the prediction performance by comparing your model’s class outputs to ground\n",
    "# truth labels\n",
    "\n",
    "def evaluate(test_result, ground_truth):\n",
    "    '''calculates accuracy, micro & macro precision, recall and f_score'''\n",
    "    \n",
    "    # calculates accuracy\n",
    "    TP = 0\n",
    "    for i in range(len(test_result)):\n",
    "        if test_result[i] == ground_truth[i]:\n",
    "                TP += 1 \n",
    "    accuracy = TP / len(test_result)\n",
    "    accuracy = ('accuracy', accuracy)\n",
    "    \n",
    "    micro_macro = precision_recall(test_result, ground_truth) # calculates micro & macro precision\n",
    "    \n",
    "    return accuracy, micro_macro\n",
    "\n",
    "\n",
    "def precision_recall(test_result, ground_truth):\n",
    "    '''this function returns a dictionary of micro & macro precision, recall and f_score'''\n",
    "    \n",
    "    TP = FP = FN = TN = F_score = 0\n",
    "    precision = total_precision = total_recall = 0\n",
    "    total_TP = total_FP = total_FN = total_F_score = 0\n",
    "    \n",
    "    for predicted_result in keys_list:\n",
    "        for i in range(len(test_result)):\n",
    "            if test_result[i] == predicted_result and ground_truth[i] == predicted_result: # if actual equals to predicted\n",
    "                    TP += 1       \n",
    "            elif test_result[i] != predicted_result and ground_truth[i] == predicted_result:\n",
    "                    FN += 1 # if actual not equal to predicted and actual is equal to current class, add FP\n",
    "            elif ground_truth[i] != predicted_result and test_result[i] == predicted_result:\n",
    "                    FP += 1  # if actual not equal to predicted and predicted is equal to current class, add FN\n",
    "            elif test_result[i] != predicted_result and ground_truth[i] != predicted_result:\n",
    "                    TN += 1\n",
    "        \n",
    "        total_TP += TP\n",
    "        total_FP += FP\n",
    "        total_FN += FN\n",
    "        \n",
    "        precision = TP / (TP + FP)\n",
    "        recall = TP / (TP + FN)\n",
    "        F_score = 2 * precision * recall / (precision + recall)\n",
    "       \n",
    "        total_precision += precision\n",
    "        total_recall += recall\n",
    "        total_F_score += F_score\n",
    "        \n",
    "        TP = FP = FN = TN = 0\n",
    "        \n",
    "    macro_precision = total_precision / len(set(test_result))\n",
    "    macro_recall = total_recall / len(set(test_result))\n",
    "    macro_F_score = total_F_score / len(set(test_result))\n",
    "    micro_precision = total_TP / (total_TP + total_FP)\n",
    "    micro_recall = total_TP / (total_TP + total_FN)\n",
    "    micro_F_score = 2 * micro_precision * micro_recall / (micro_precision + micro_recall)\n",
    "    \n",
    "    results_dictionary = {'macro precision': macro_precision, 'macro recall': macro_recall, 'macro F-score': macro_F_score, 'micro precision': micro_precision,\n",
    "                         'micro recall': micro_recall, 'micro F-score': micro_F_score}\n",
    "    return results_dictionary\n",
    "\n",
    "prediction = predict(test_file.iloc[:,1:], mean_list, sd_list, d_prior, keys_list)\n",
    "evaluate(prediction, test_file.iloc[:,0])"
   ]
  },
  {
   "cell_type": "markdown",
   "metadata": {},
   "source": [
    "### Q2\n",
    "The Gaussian naıve Bayes classifier assumes that numeric attributes come from a Gaussian distribution. Is this assumption always true for the numeric attributes in this dataset? Identify some cases where the Gaussian assumption is violated and describe any evidence (or lack thereof) that this has some effect on the classifier’s predictions."
   ]
  },
  {
   "cell_type": "code",
   "execution_count": 33,
   "metadata": {},
   "outputs": [
    {
     "name": "stdout",
     "output_type": "stream",
     "text": [
      "(('accuracy', 0.7946428571428571), {'macro precision': 0.7829839020628494, 'macro recall': 0.7782142857142857, 'macro F-score': 0.7748490204859374, 'micro precision': 0.7946428571428571, 'micro recall': 0.7946428571428571, 'micro F-score': 0.7946428571428572})\n"
     ]
    }
   ],
   "source": [
    "from statsmodels.graphics.gofplots import qqplot\n",
    "from matplotlib import pyplot\n",
    "from numpy import mean\n",
    "from numpy import std\n",
    "import scipy.stats as stats\n",
    "import pylab \n",
    "import statsmodels.api as sm\n",
    "import pandas as pd\n",
    "\n",
    "lower_bound=train_file.quantile(0.05)\n",
    "upper_bound=train_file.quantile(0.95)\n",
    "class_label=train_file[0]\n",
    "\n",
    "#removing the outlier based on the upper and lower bound and replace them with nan\n",
    "new_feature=train_file.iloc[:,1:][(train_file<upper_bound)&(train_file>lower_bound)]\n",
    "\n",
    "#train the data set\n",
    "new_train=pd.concat([class_label, new_feature], axis=1)\n",
    "mean_list, sd_list, d_prior, keys_list = train(new_train)\n",
    "\n",
    "#predict the test set based on our new data set\n",
    "prediction = predict(test_file.iloc[:,1:], mean_list, sd_list, d_prior, keys_list)\n",
    "accuracy=evaluate(prediction, test_file.iloc[:,0])\n",
    "print(accuracy)"
   ]
  },
  {
   "cell_type": "code",
   "execution_count": 34,
   "metadata": {},
   "outputs": [
    {
     "name": "stdout",
     "output_type": "stream",
     "text": [
      "plotting the first 5 attribute of our data\n"
     ]
    },
    {
     "data": {
      "image/png": "[encoded data removed]",
      "text/plain": [
       "<Figure size 432x288 with 1 Axes>"
      ]
     },
     "metadata": {
      "needs_background": "light"
     },
     "output_type": "display_data"
    },
    {
     "data": {
      "image/png": "[encoded data removed]",
      "text/plain": [
       "<Figure size 432x288 with 1 Axes>"
      ]
     },
     "metadata": {
      "needs_background": "light"
     },
     "output_type": "display_data"
    },
    {
     "data": {
      "image/png": "[encoded data removed]",
      "text/plain": [
       "<Figure size 432x288 with 1 Axes>"
      ]
     },
     "metadata": {
      "needs_background": "light"
     },
     "output_type": "display_data"
    },
    {
     "data": {
      "image/png": "[encoded data removed]",
      "text/plain": [
       "<Figure size 432x288 with 1 Axes>"
      ]
     },
     "metadata": {
      "needs_background": "light"
     },
     "output_type": "display_data"
    },
    {
     "data": {
      "image/png": "[encoded data removed]",
      "text/plain": [
       "<Figure size 432x288 with 1 Axes>"
      ]
     },
     "metadata": {
      "needs_background": "light"
     },
     "output_type": "display_data"
    }
   ],
   "source": [
    "#Plotting just 5 of the raw attribute in histogram\n",
    "print(\"plotting the first 5 attribute of our data\")\n",
    "for i in range(1,6):\n",
    "    pyplot.hist(train_file[i])\n",
    "    pyplot.show()"
   ]
  },
  {
   "cell_type": "code",
   "execution_count": 35,
   "metadata": {},
   "outputs": [
    {
     "data": {
      "image/png": "[encoded data removed]",
      "text/plain": [
       "<Figure size 432x288 with 1 Axes>"
      ]
     },
     "metadata": {
      "needs_background": "light"
     },
     "output_type": "display_data"
    },
    {
     "data": {
      "image/png": "[encoded data removed]",
      "text/plain": [
       "<Figure size 432x288 with 1 Axes>"
      ]
     },
     "metadata": {
      "needs_background": "light"
     },
     "output_type": "display_data"
    },
    {
     "data": {
      "image/png": "[encoded data removed]",
      "text/plain": [
       "<Figure size 432x288 with 1 Axes>"
      ]
     },
     "metadata": {
      "needs_background": "light"
     },
     "output_type": "display_data"
    },
    {
     "data": {
      "image/png": "[encoded data removed]",
      "text/plain": [
       "<Figure size 432x288 with 1 Axes>"
      ]
     },
     "metadata": {
      "needs_background": "light"
     },
     "output_type": "display_data"
    },
    {
     "data": {
      "image/png": "[encoded data removed]",
      "text/plain": [
       "<Figure size 432x288 with 1 Axes>"
      ]
     },
     "metadata": {
      "needs_background": "light"
     },
     "output_type": "display_data"
    }
   ],
   "source": [
    "#Plotting just 5 of the new attribute after removing outlier in histogram\n",
    "for i in range(1,6):   \n",
    "    pyplot.hist(new_train[i])\n",
    "    pyplot.show()"
   ]
  },
  {
   "cell_type": "markdown",
   "metadata": {},
   "source": [
    "### Q3\n",
    "Implement a kernel density estimate (KDE) naive Bayes classifier and compare its performance to the Gaussian naive Bayes classifier. Recall that KDE has kernel bandwidth as a free parameter -- you can choose an arbitrary value for this, but a value in the range 5-25 is recommended. Discuss any differences you observe between the Gaussian and KDE naive Bayes classifiers. (As with the Gaussian naive Bayes, this KDE naive Bayes implementation should be your own and should not just call a pre-existing function.)"
   ]
  },
  {
   "cell_type": "code",
   "execution_count": 36,
   "metadata": {},
   "outputs": [
    {
     "data": {
      "text/plain": [
       "(('accuracy', 0.7589285714285714),\n",
       " {'macro precision': 0.7422037684537685,\n",
       "  'macro recall': 0.7457539682539682,\n",
       "  'macro F-score': 0.7339143312827524,\n",
       "  'micro precision': 0.7589285714285714,\n",
       "  'micro recall': 0.7589285714285714,\n",
       "  'micro F-score': 0.7589285714285714})"
      ]
     },
     "execution_count": 36,
     "metadata": {},
     "output_type": "execute_result"
    }
   ],
   "source": [
    "def predict_kde(test_file, d_prior, keys_list, train_file):\n",
    "    '''predicts test file's class labels based on kernel density estimation'''\n",
    "    \n",
    "    prediction = []\n",
    "    row_idx = 0\n",
    "    sum_conditional = 0\n",
    "    bandwith = 5\n",
    "    \n",
    "    for row in test_file.values:\n",
    "        cond_probability = {}\n",
    "        row_idx = 0\n",
    "        for class_idx in range(len(keys_list)):\n",
    "            #sums log likelihood P(x) + sum of P(Xi|Cj) of an instance\n",
    "            sum_conditional = math.log(d_prior[keys_list[class_idx]])\n",
    "            for point_idx in range(1, len(row)):\n",
    "                xi_list = train_file.groupby([0])[point_idx].apply(list) # finds xi list for every features given class label\n",
    "                xi_list.dropna() # comment this if impute data\n",
    "                if np.isnan(row[point_idx]):\n",
    "                    continue # skips missing values\n",
    "                if (kde_function(xi_list[class_idx], bandwith, row[point_idx], d_prior[keys_list[class_idx]], len(xi_list[class_idx])) == 0):\n",
    "                    continue # skips 0 probability\n",
    "                sum_conditional = sum_conditional + math.log(kde_function(xi_list[class_idx], bandwith, row[point_idx], d_prior[keys_list[class_idx]],len(xi_list[class_idx])))\n",
    "            row_idx += 1\n",
    "\n",
    "            cond_probability[keys_list[class_idx]] = sum_conditional\n",
    "        key_max = max(cond_probability.items(), key = operator.itemgetter(1))[0] # returns key of highest probability value\n",
    "        prediction.append(key_max)\n",
    "\n",
    "    return prediction\n",
    "\n",
    "def kde_function(xi_list, sd, x, prior_probability, N):\n",
    "    '''calculates P(Xi|Cj) using KDE function'''\n",
    "    \n",
    "    exponent = 0\n",
    "    if np.isnan(x):\n",
    "        return \n",
    "    for xi in xi_list: # calculates sum of exponent (x-xi)\n",
    "        if np.isnan(xi):\n",
    "            continue\n",
    "        exponent += np.exp(-1/2 * (((x - xi) / sd) ** 2))\n",
    "    gauss_pdf = exponent / (N * sd * np.sqrt(2 * np.pi))\n",
    "    return gauss_pdf\n",
    "\n",
    "kde_prediction = predict_kde(test_file, d_prior, keys_list, train_file)\n",
    "kde_prediction\n",
    "evaluate(kde_prediction, test_file.iloc[:,0])"
   ]
  },
  {
   "cell_type": "markdown",
   "metadata": {},
   "source": [
    "### Q4\n",
    "Instead of using an arbitrary kernel bandwidth for the KDE naive Bayes classifier, use random hold-out or cross-validation to choose the kernel bandwidth. Discuss how this changes the model performance compared to using an arbitrary kernel bandwidth."
   ]
  },
  {
   "cell_type": "code",
   "execution_count": null,
   "metadata": {},
   "outputs": [],
   "source": []
  },
  {
   "cell_type": "markdown",
   "metadata": {},
   "source": [
    "### Q5\n",
    "Naive Bayes ignores missing values, but in pose recognition tasks the missing values can be informative. Missing values indicate that some part of the body was obscured and sometimes this is relevant to the pose (e.g., holding one hand behind the back). Are missing values useful for this task? Implement a method that incorporates information about missing values and demonstrate whether it changes the classification results."
   ]
  },
  {
   "cell_type": "code",
   "execution_count": 37,
   "metadata": {},
   "outputs": [
    {
     "data": {
      "text/plain": [
       "(('accuracy', 0.7678571428571429),\n",
       " {'macro precision': 0.7207738095238095,\n",
       "  'macro recall': 0.7551984126984126,\n",
       "  'macro F-score': 0.7264382743693089,\n",
       "  'micro precision': 0.7678571428571429,\n",
       "  'micro recall': 0.7678571428571429,\n",
       "  'micro F-score': 0.7678571428571429})"
      ]
     },
     "execution_count": 37,
     "metadata": {},
     "output_type": "execute_result"
    }
   ],
   "source": [
    "def impute_data_mean(df):\n",
    "    '''imputes NaN to mean of each class label of each feature'''\n",
    "    \n",
    "    mean_list = df.groupby([0]).mean().to_dict()\n",
    "    a = list(df.values)\n",
    "    for i in range(len(a)):\n",
    "        class_name = a[i][0]\n",
    "        k = 1\n",
    "        for numbers in a[i][1:]:\n",
    "            if math.isnan(numbers):\n",
    "                a[i][k] = mean_list[k][class_name]\n",
    "            k += 1\n",
    "    b = pd.DataFrame(a)\n",
    "    return b\n",
    "\n",
    "train_file = preprocess('train.csv')\n",
    "train_file2 = impute_data_mean(train_file)\n",
    "test_file = preprocess('test.csv')\n",
    "mean_list, sd_list, d_prior, keys_list = train(train_file2)\n",
    "prediction = predict(test_file.iloc[:,1:], mean_list, sd_list, d_prior, keys_list)\n",
    "evaluate(prediction, test_file.iloc[:,0])\n",
    "\n",
    "\n",
    "\n",
    "\n"
   ]
  },
  {
   "cell_type": "code",
   "execution_count": 38,
   "metadata": {},
   "outputs": [
    {
     "data": {
      "text/plain": [
       "(('accuracy', 0.7410714285714286),\n",
       " {'macro precision': 0.6947510822510823,\n",
       "  'macro recall': 0.7318650793650793,\n",
       "  'macro F-score': 0.7045932201672567,\n",
       "  'micro precision': 0.7410714285714286,\n",
       "  'micro recall': 0.7410714285714286,\n",
       "  'micro F-score': 0.7410714285714286})"
      ]
     },
     "execution_count": 38,
     "metadata": {},
     "output_type": "execute_result"
    }
   ],
   "source": [
    "def impute_data_median(df):\n",
    "    '''imputes NaN to median of each class label of each feature'''\n",
    "    \n",
    "    median_list = df.groupby([0]).median().to_dict()\n",
    "    a = list(df.values)\n",
    "    for i in range(len(a)):\n",
    "        class_name = a[i][0]\n",
    "        k = 1\n",
    "        for numbers in a[i][1:]:\n",
    "            if math.isnan(numbers):\n",
    "                a[i][k] = median_list[k][class_name]\n",
    "            k += 1\n",
    "    b = pd.DataFrame(a)\n",
    "    return b\n",
    "\n",
    "train_file = preprocess('train.csv')\n",
    "train_file3 = impute_data_median(train_file)\n",
    "test_file = preprocess('test.csv')\n",
    "mean_list, sd_list, d_prior, keys_list = train(train_file3)\n",
    "prediction = predict(test_file.iloc[:,1:], mean_list, sd_list, d_prior, keys_list)\n",
    "evaluate(prediction, test_file.iloc[:,0])\n"
   ]
  },
  {
   "cell_type": "code",
   "execution_count": 39,
   "metadata": {},
   "outputs": [
    {
     "name": "stdout",
     "output_type": "stream",
     "text": [
      "number of outliers in each of the feature\n"
     ]
    },
    {
     "data": {
      "text/plain": [
       "0      0\n",
       "1     60\n",
       "2     70\n",
       "3     56\n",
       "4     52\n",
       "5     56\n",
       "6     52\n",
       "7     66\n",
       "8     58\n",
       "9     54\n",
       "10    56\n",
       "11    54\n",
       "12    60\n",
       "13    70\n",
       "14    56\n",
       "15    52\n",
       "16    56\n",
       "17    52\n",
       "18    66\n",
       "19    58\n",
       "20    54\n",
       "21    56\n",
       "22    54\n",
       "dtype: int64"
      ]
     },
     "execution_count": 39,
     "metadata": {},
     "output_type": "execute_result"
    }
   ],
   "source": [
    "lower_bound=train_file.quantile(0.05)\n",
    "upper_bound=train_file.quantile(0.95)\n",
    "class_label=train_file[0]\n",
    "\n",
    "print(\"number of outliers in each of the feature\")\n",
    "((train_file>upper_bound)|(train_file<lower_bound)).sum()\n"
   ]
  },
  {
   "cell_type": "markdown",
   "metadata": {},
   "source": [
    "### Q6\n",
    "Engineer your own pose features from the provided keypoints. Instead of using the (x,y) positions of keypoints, you might consider the angles of the limbs or body, or the distances between pairs of keypoints. How does a naive Bayes classifier based on your engineered features compare to the classifier using (x,y) values? Please note that we are interested in explainable features for pose recognition, so simply putting the (x,y) values in a neural network or similar to get an arbitrary embedding will not receive full credit for this question. You should be able to explain the rationale behind your proposed features. Also, don't forget the conditional independence assumption of naive Bayes when proposing new features -- a large set of highly-correlated features may not work well."
   ]
  },
  {
   "cell_type": "markdown",
   "metadata": {
    "jupyter": {
     "outputs_hidden": true
    }
   },
   "source": []
  }
 ],
 "metadata": {
  "kernelspec": {
   "display_name": "Python 3",
   "language": "python",
   "name": "python3"
  },
  "language_info": {
   "codemirror_mode": {
    "name": "ipython",
    "version": 3
   },
   "file_extension": ".py",
   "mimetype": "text/x-python",
   "name": "python",
   "nbconvert_exporter": "python",
   "pygments_lexer": "ipython3",
   "version": "3.8.5"
  }
 },
 "nbformat": 4,
 "nbformat_minor": 4
}
